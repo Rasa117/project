{
 "cells": [
  {
   "cell_type": "markdown",
   "metadata": {},
   "source": [
    "# 3. Models Ensemble - Final model"
   ]
  },
  {
   "cell_type": "code",
   "execution_count": 1,
   "metadata": {},
   "outputs": [],
   "source": [
    "import pandas as pd\n",
    "from pandas.plotting import scatter_matrix\n",
    "import matplotlib.pyplot as plt\n",
    "import numpy as np \n",
    "from bokeh.plotting import show, figure\n",
    "import seaborn as sns\n",
    "from sklearn.linear_model import LinearRegression\n",
    "from sklearn.preprocessing import StandardScaler\n",
    "from sklearn.ensemble import RandomForestRegressor, GradientBoostingRegressor"
   ]
  },
  {
   "cell_type": "code",
   "execution_count": 2,
   "metadata": {},
   "outputs": [],
   "source": [
    "data = pd.read_csv(\"Family_Income_and_Expenditure.csv\") "
   ]
  },
  {
   "cell_type": "markdown",
   "metadata": {},
   "source": [
    "## Best LR model"
   ]
  },
  {
   "cell_type": "code",
   "execution_count": 3,
   "metadata": {},
   "outputs": [],
   "source": [
    "# spliting data in numeric and text\n",
    "colnumber = len(data.columns)\n",
    "data_number = pd.DataFrame()\n",
    "data_text = pd.DataFrame()\n",
    "for i in range(colnumber):\n",
    "    if data.dtypes[i] == \"int64\":\n",
    "        data_number[[data.columns[i]]] = pd.DataFrame(data.iloc[:,i])\n",
    "    else:\n",
    "        data_text[[data.columns[i]]] = pd.DataFrame(data.iloc[:,i])"
   ]
  },
  {
   "cell_type": "code",
   "execution_count": 4,
   "metadata": {},
   "outputs": [],
   "source": [
    "data_choose = data[[\"Region\", \"Main Source of Income\", \"Household Head Sex\", \"Household Head Marital Status\", \n",
    "                         \"Household Head Class of Worker\", \"Type of Household\", \"Agricultural Household indicator\"]]\n",
    "data_choose_recode = pd.get_dummies(data_choose)\n",
    "data_number = data_number.drop([\"Agricultural Household indicator\"], axis=1)\n",
    "\n",
    "data_total = pd.DataFrame()\n",
    "data_total = pd.concat([data_number, data_choose_recode], axis = 1)"
   ]
  },
  {
   "cell_type": "code",
   "execution_count": 5,
   "metadata": {
    "scrolled": true
   },
   "outputs": [
    {
     "name": "stdout",
     "output_type": "stream",
     "text": [
      "Train set shape (29197, 83), test set shape (12347, 83)\n"
     ]
    }
   ],
   "source": [
    "# split data in train and test sets\n",
    "np.random.seed(42)\n",
    "mask = np.random.rand(data_total.shape[0]) <= 0.7\n",
    "print('Train set shape {0}, test set shape {1}'.format(data_total[mask].shape, data_total[~mask].shape))"
   ]
  },
  {
   "cell_type": "code",
   "execution_count": 6,
   "metadata": {},
   "outputs": [
    {
     "name": "stdout",
     "output_type": "stream",
     "text": [
      "RMSE = 152414.3327\n"
     ]
    }
   ],
   "source": [
    "lr = LinearRegression()\n",
    "lr.fit(data_total.iloc[mask, 1:], data_total[mask][\"Total Household Income\"])\n",
    "lr_pred = lr.predict(data_total.iloc[~mask, 1:])\n",
    "print('RMSE = {0:.04f}'.format(np.sqrt(np.mean((lr_pred - data_total[~mask][\"Total Household Income\"])**2))))"
   ]
  },
  {
   "cell_type": "markdown",
   "metadata": {},
   "source": [
    "## RF 1 model"
   ]
  },
  {
   "cell_type": "code",
   "execution_count": 7,
   "metadata": {},
   "outputs": [],
   "source": [
    "# spliting data in numeric and text\n",
    "colnumber = len(data.columns)\n",
    "data_number = pd.DataFrame()\n",
    "data_text = pd.DataFrame()\n",
    "for i in range(colnumber):\n",
    "    if data.dtypes[i] == \"int64\":\n",
    "        data_number[[data.columns[i]]] = pd.DataFrame(data.iloc[:,i])\n",
    "    else:\n",
    "        data_text[[data.columns[i]]] = pd.DataFrame(data.iloc[:,i])"
   ]
  },
  {
   "cell_type": "code",
   "execution_count": 8,
   "metadata": {},
   "outputs": [],
   "source": [
    "data_number_a = pd.get_dummies(data_number, columns=[\"Agricultural Household indicator\"])"
   ]
  },
  {
   "cell_type": "code",
   "execution_count": 9,
   "metadata": {},
   "outputs": [
    {
     "name": "stdout",
     "output_type": "stream",
     "text": [
      "Train set shape (29197, 47), test set shape (12347, 47)\n"
     ]
    }
   ],
   "source": [
    "np.random.seed(42)\n",
    "mask = np.random.rand(data_number_a.shape[0]) <= 0.7\n",
    "print('Train set shape {0}, test set shape {1}'.format(data_number_a[mask].shape, data_number_a[~mask].shape))"
   ]
  },
  {
   "cell_type": "code",
   "execution_count": 10,
   "metadata": {},
   "outputs": [
    {
     "name": "stdout",
     "output_type": "stream",
     "text": [
      "RMSE_scaled = 151335.4597\n"
     ]
    }
   ],
   "source": [
    "rf1 = RandomForestRegressor(n_estimators=50, random_state = 42)\n",
    "rf1.fit(data_number_a[mask].drop([\"Total Household Income\"], axis=1),\n",
    "       data_number_a[mask][\"Total Household Income\"])\n",
    "rf1_pred = rf1.predict(data_number_a[~mask].drop([\"Total Household Income\"], axis=1))\n",
    "print('RMSE_scaled = {0:.04f}'.format(np.sqrt(np.mean((rf1_pred - data_number_a[~mask][\"Total Household Income\"])**2))))"
   ]
  },
  {
   "cell_type": "markdown",
   "metadata": {},
   "source": [
    "## RF 2 model"
   ]
  },
  {
   "cell_type": "code",
   "execution_count": 11,
   "metadata": {},
   "outputs": [],
   "source": [
    "# spliting data in numeric and text\n",
    "colnumber = len(data.columns)\n",
    "data_number = pd.DataFrame()\n",
    "data_text = pd.DataFrame()\n",
    "for i in range(colnumber):\n",
    "    if data.dtypes[i] == \"int64\":\n",
    "        data_number[[data.columns[i]]] = pd.DataFrame(data.iloc[:,i])\n",
    "    else:\n",
    "        data_text[[data.columns[i]]] = pd.DataFrame(data.iloc[:,i])"
   ]
  },
  {
   "cell_type": "code",
   "execution_count": 12,
   "metadata": {},
   "outputs": [],
   "source": [
    "data_text_recode = pd.get_dummies(data_text)\n",
    "data_number_a = pd.get_dummies(data_number, columns=[\"Agricultural Household indicator\"])\n",
    "\n",
    "data_total = pd.DataFrame()\n",
    "data_total = pd.concat([data_number_a, data_text_recode], axis = 1)"
   ]
  },
  {
   "cell_type": "code",
   "execution_count": 13,
   "metadata": {},
   "outputs": [
    {
     "name": "stdout",
     "output_type": "stream",
     "text": [
      "Train set shape (29197, 557), test set shape (12347, 557)\n"
     ]
    }
   ],
   "source": [
    "# split data in train and test sets\n",
    "np.random.seed(42)\n",
    "mask = np.random.rand(data_total.shape[0]) <= 0.7\n",
    "print('Train set shape {0}, test set shape {1}'.format(data_total[mask].shape, data_total[~mask].shape))"
   ]
  },
  {
   "cell_type": "code",
   "execution_count": 14,
   "metadata": {},
   "outputs": [
    {
     "name": "stdout",
     "output_type": "stream",
     "text": [
      "RMSE = 149886.3949\n"
     ]
    }
   ],
   "source": [
    "rf2 = RandomForestRegressor(n_estimators=60, max_depth = 15, random_state = 42)\n",
    "rf2.fit(data_total[mask].drop([\"Total Household Income\"], axis=1),\n",
    "       data_total[mask][\"Total Household Income\"])\n",
    "rf2_pred = rf2.predict(data_total[~mask].drop([\"Total Household Income\"], axis=1))\n",
    "print('RMSE = {0:.04f}'.format(np.sqrt(np.mean((rf2_pred - data_total[~mask][\"Total Household Income\"])**2))))"
   ]
  },
  {
   "cell_type": "markdown",
   "metadata": {},
   "source": [
    "## Final Model"
   ]
  },
  {
   "cell_type": "code",
   "execution_count": 15,
   "metadata": {},
   "outputs": [
    {
     "data": {
      "text/html": [
       "<div>\n",
       "<style scoped>\n",
       "    .dataframe tbody tr th:only-of-type {\n",
       "        vertical-align: middle;\n",
       "    }\n",
       "\n",
       "    .dataframe tbody tr th {\n",
       "        vertical-align: top;\n",
       "    }\n",
       "\n",
       "    .dataframe thead th {\n",
       "        text-align: right;\n",
       "    }\n",
       "</style>\n",
       "<table border=\"1\" class=\"dataframe\">\n",
       "  <thead>\n",
       "    <tr style=\"text-align: right;\">\n",
       "      <th></th>\n",
       "      <th>Total Household Income</th>\n",
       "      <th>lr_pred</th>\n",
       "      <th>rf1_pred</th>\n",
       "      <th>rf2_pred</th>\n",
       "    </tr>\n",
       "  </thead>\n",
       "  <tbody>\n",
       "    <tr>\n",
       "      <td>0</td>\n",
       "      <td>198235</td>\n",
       "      <td>253903.072996</td>\n",
       "      <td>231874.84</td>\n",
       "      <td>237421.954053</td>\n",
       "    </tr>\n",
       "    <tr>\n",
       "      <td>1</td>\n",
       "      <td>82785</td>\n",
       "      <td>129893.877662</td>\n",
       "      <td>108164.72</td>\n",
       "      <td>112797.917766</td>\n",
       "    </tr>\n",
       "    <tr>\n",
       "      <td>2</td>\n",
       "      <td>134961</td>\n",
       "      <td>156142.487202</td>\n",
       "      <td>188385.80</td>\n",
       "      <td>203438.167107</td>\n",
       "    </tr>\n",
       "    <tr>\n",
       "      <td>3</td>\n",
       "      <td>625753</td>\n",
       "      <td>485670.165417</td>\n",
       "      <td>414648.60</td>\n",
       "      <td>431552.899230</td>\n",
       "    </tr>\n",
       "    <tr>\n",
       "      <td>4</td>\n",
       "      <td>253130</td>\n",
       "      <td>323624.603410</td>\n",
       "      <td>225190.50</td>\n",
       "      <td>219146.161181</td>\n",
       "    </tr>\n",
       "    <tr>\n",
       "      <td>...</td>\n",
       "      <td>...</td>\n",
       "      <td>...</td>\n",
       "      <td>...</td>\n",
       "      <td>...</td>\n",
       "    </tr>\n",
       "    <tr>\n",
       "      <td>12342</td>\n",
       "      <td>95500</td>\n",
       "      <td>110049.347839</td>\n",
       "      <td>124007.76</td>\n",
       "      <td>129269.831595</td>\n",
       "    </tr>\n",
       "    <tr>\n",
       "      <td>12343</td>\n",
       "      <td>185100</td>\n",
       "      <td>210920.560995</td>\n",
       "      <td>247591.64</td>\n",
       "      <td>247971.289437</td>\n",
       "    </tr>\n",
       "    <tr>\n",
       "      <td>12344</td>\n",
       "      <td>119773</td>\n",
       "      <td>73945.690837</td>\n",
       "      <td>120135.14</td>\n",
       "      <td>115602.250490</td>\n",
       "    </tr>\n",
       "    <tr>\n",
       "      <td>12345</td>\n",
       "      <td>133171</td>\n",
       "      <td>83284.197325</td>\n",
       "      <td>128728.64</td>\n",
       "      <td>125611.397538</td>\n",
       "    </tr>\n",
       "    <tr>\n",
       "      <td>12346</td>\n",
       "      <td>129500</td>\n",
       "      <td>86852.173854</td>\n",
       "      <td>135220.56</td>\n",
       "      <td>137154.120205</td>\n",
       "    </tr>\n",
       "  </tbody>\n",
       "</table>\n",
       "<p>12347 rows × 4 columns</p>\n",
       "</div>"
      ],
      "text/plain": [
       "       Total Household Income        lr_pred   rf1_pred       rf2_pred\n",
       "0                      198235  253903.072996  231874.84  237421.954053\n",
       "1                       82785  129893.877662  108164.72  112797.917766\n",
       "2                      134961  156142.487202  188385.80  203438.167107\n",
       "3                      625753  485670.165417  414648.60  431552.899230\n",
       "4                      253130  323624.603410  225190.50  219146.161181\n",
       "...                       ...            ...        ...            ...\n",
       "12342                   95500  110049.347839  124007.76  129269.831595\n",
       "12343                  185100  210920.560995  247591.64  247971.289437\n",
       "12344                  119773   73945.690837  120135.14  115602.250490\n",
       "12345                  133171   83284.197325  128728.64  125611.397538\n",
       "12346                  129500   86852.173854  135220.56  137154.120205\n",
       "\n",
       "[12347 rows x 4 columns]"
      ]
     },
     "execution_count": 15,
     "metadata": {},
     "output_type": "execute_result"
    }
   ],
   "source": [
    "income = pd.DataFrame(data_total[~mask][\"Total Household Income\"]).reset_index().drop(\"index\", axis = 1)\n",
    "lr_pred = pd.DataFrame(lr_pred, columns=[\"lr_pred\"])\n",
    "rf1_pred = pd.DataFrame(rf1_pred, columns=[\"rf1_pred\"])\n",
    "rf2_pred = pd.DataFrame(rf2_pred, columns=[\"rf2_pred\"])\n",
    "\n",
    "final = pd.concat([income, lr_pred, rf1_pred, rf2_pred], axis = 1)\n",
    "final"
   ]
  },
  {
   "cell_type": "code",
   "execution_count": 16,
   "metadata": {},
   "outputs": [
    {
     "name": "stdout",
     "output_type": "stream",
     "text": [
      "Train set shape (8729, 4), test set shape (3618, 4)\n"
     ]
    }
   ],
   "source": [
    "# split data in train and test sets\n",
    "np.random.seed(42)\n",
    "mask = np.random.rand(final.shape[0]) <= 0.7\n",
    "print('Train set shape {0}, test set shape {1}'.format(final[mask].shape, final[~mask].shape))"
   ]
  },
  {
   "cell_type": "code",
   "execution_count": 18,
   "metadata": {},
   "outputs": [
    {
     "name": "stdout",
     "output_type": "stream",
     "text": [
      "RMSE = 103349.55\n"
     ]
    }
   ],
   "source": [
    "lr_final = LinearRegression()\n",
    "lr_final.fit(final.iloc[mask, 1:], final[mask][\"Total Household Income\"])\n",
    "lr_pred_final = lr_final.predict(final.iloc[~mask, 1:])\n",
    "print('RMSE = {0:.02f}'.format(np.sqrt(np.mean((lr_pred_final - final[~mask][\"Total Household Income\"])**2))))"
   ]
  },
  {
   "cell_type": "code",
   "execution_count": 25,
   "metadata": {},
   "outputs": [
    {
     "data": {
      "text/plain": [
       "<matplotlib.axes._subplots.AxesSubplot at 0x20782ba58c8>"
      ]
     },
     "execution_count": 25,
     "metadata": {},
     "output_type": "execute_result"
    },
    {
     "data": {
      "image/png": "[encoded data removed]",
      "text/plain": [
       "<Figure size 288x360 with 1 Axes>"
      ]
     },
     "metadata": {
      "needs_background": "light"
     },
     "output_type": "display_data"
    }
   ],
   "source": [
    "pd.DataFrame(lr_final.coef_, columns=['coeficient'], \n",
    "             index=final[mask].drop([\"Total Household Income\"], \n",
    "                                    axis=1).columns,).plot(kind='bar', figsize=(4,5))"
   ]
  },
  {
   "cell_type": "markdown",
   "metadata": {},
   "source": [
    "RMSE = 103 349.55 it is the best result."
   ]
  },
  {
   "cell_type": "code",
   "execution_count": null,
   "metadata": {},
   "outputs": [],
   "source": []
  }
 ],
 "metadata": {
  "kernelspec": {
   "display_name": "Python 3",
   "language": "python",
   "name": "python3"
  },
  "language_info": {
   "codemirror_mode": {
    "name": "ipython",
    "version": 3
   },
   "file_extension": ".py",
   "mimetype": "text/x-python",
   "name": "python",
   "nbconvert_exporter": "python",
   "pygments_lexer": "ipython3",
   "version": "3.7.4"
  }
 },
 "nbformat": 4,
 "nbformat_minor": 2
}
